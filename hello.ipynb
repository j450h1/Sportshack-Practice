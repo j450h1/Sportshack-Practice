{
 "cells": [
  {
   "cell_type": "code",
   "execution_count": 1,
   "metadata": {
    "collapsed": false
   },
   "outputs": [],
   "source": [
    "import pandas as pd\n",
    "import numpy as np\n",
    "import matplotlib.pyplot as plt\n",
    "# %matplotlib inline \n",
    "# pd.__version__"
   ]
  },
  {
   "cell_type": "code",
   "execution_count": 2,
   "metadata": {
    "collapsed": false
   },
   "outputs": [
    {
     "name": "stdout",
     "output_type": "stream",
     "text": [
      "Hello, World!\n"
     ]
    }
   ],
   "source": [
    "print(\"Hello, World!\")"
   ]
  },
  {
   "cell_type": "code",
   "execution_count": 3,
   "metadata": {
    "collapsed": false
   },
   "outputs": [
    {
     "name": "stderr",
     "output_type": "stream",
     "text": [
      "/Users/jas/anaconda/lib/python2.7/site-packages/pandas/io/parsers.py:1170: DtypeWarning: Columns (12) have mixed types. Specify dtype option on import or set low_memory=False.\n",
      "  data = self._reader.read(nrows)\n"
     ]
    },
    {
     "data": {
      "text/html": [
       "<div>\n",
       "<table border=\"1\" class=\"dataframe\">\n",
       "  <thead>\n",
       "    <tr style=\"text-align: right;\">\n",
       "      <th></th>\n",
       "      <th>LicenceRSN</th>\n",
       "      <th>NumberOfEmployees</th>\n",
       "      <th>Latitude</th>\n",
       "      <th>Longitude</th>\n",
       "      <th>FeePaid</th>\n",
       "    </tr>\n",
       "  </thead>\n",
       "  <tbody>\n",
       "    <tr>\n",
       "      <th>count</th>\n",
       "      <td>1142374.000000</td>\n",
       "      <td>1.142374e+06</td>\n",
       "      <td>711794.000000</td>\n",
       "      <td>711794.000000</td>\n",
       "      <td>955251.000000</td>\n",
       "    </tr>\n",
       "    <tr>\n",
       "      <th>mean</th>\n",
       "      <td>1044061.491336</td>\n",
       "      <td>1.058916e+04</td>\n",
       "      <td>49.263610</td>\n",
       "      <td>-123.112246</td>\n",
       "      <td>231.484358</td>\n",
       "    </tr>\n",
       "    <tr>\n",
       "      <th>std</th>\n",
       "      <td>666270.578106</td>\n",
       "      <td>8.001258e+06</td>\n",
       "      <td>0.022140</td>\n",
       "      <td>0.035197</td>\n",
       "      <td>696.573290</td>\n",
       "    </tr>\n",
       "    <tr>\n",
       "      <th>min</th>\n",
       "      <td>1.000000</td>\n",
       "      <td>0.000000e+00</td>\n",
       "      <td>49.200481</td>\n",
       "      <td>-123.222251</td>\n",
       "      <td>-940.400000</td>\n",
       "    </tr>\n",
       "    <tr>\n",
       "      <th>25%</th>\n",
       "      <td>459872.250000</td>\n",
       "      <td>0.000000e+00</td>\n",
       "      <td>49.252855</td>\n",
       "      <td>-123.131760</td>\n",
       "      <td>91.000000</td>\n",
       "    </tr>\n",
       "    <tr>\n",
       "      <th>50%</th>\n",
       "      <td>996862.500000</td>\n",
       "      <td>0.000000e+00</td>\n",
       "      <td>49.267838</td>\n",
       "      <td>-123.117834</td>\n",
       "      <td>115.000000</td>\n",
       "    </tr>\n",
       "    <tr>\n",
       "      <th>75%</th>\n",
       "      <td>1544069.750000</td>\n",
       "      <td>0.000000e+00</td>\n",
       "      <td>49.281916</td>\n",
       "      <td>-123.094442</td>\n",
       "      <td>159.000000</td>\n",
       "    </tr>\n",
       "    <tr>\n",
       "      <th>max</th>\n",
       "      <td>2618990.000000</td>\n",
       "      <td>6.047106e+09</td>\n",
       "      <td>49.298055</td>\n",
       "      <td>-123.023869</td>\n",
       "      <td>87228.330000</td>\n",
       "    </tr>\n",
       "  </tbody>\n",
       "</table>\n",
       "</div>"
      ],
      "text/plain": [
       "           LicenceRSN  NumberOfEmployees       Latitude      Longitude  \\\n",
       "count  1142374.000000       1.142374e+06  711794.000000  711794.000000   \n",
       "mean   1044061.491336       1.058916e+04      49.263610    -123.112246   \n",
       "std     666270.578106       8.001258e+06       0.022140       0.035197   \n",
       "min          1.000000       0.000000e+00      49.200481    -123.222251   \n",
       "25%     459872.250000       0.000000e+00      49.252855    -123.131760   \n",
       "50%     996862.500000       0.000000e+00      49.267838    -123.117834   \n",
       "75%    1544069.750000       0.000000e+00      49.281916    -123.094442   \n",
       "max    2618990.000000       6.047106e+09      49.298055    -123.023869   \n",
       "\n",
       "             FeePaid  \n",
       "count  955251.000000  \n",
       "mean      231.484358  \n",
       "std       696.573290  \n",
       "min      -940.400000  \n",
       "25%        91.000000  \n",
       "50%       115.000000  \n",
       "75%       159.000000  \n",
       "max     87228.330000  "
      ]
     },
     "execution_count": 3,
     "metadata": {},
     "output_type": "execute_result"
    }
   ],
   "source": [
    "bl_1997 = pd.read_csv('datasets/1997business_licences.csv')\n",
    "bl_1998 = pd.read_csv('datasets/1998business_licences.csv')\n",
    "bl_1999 = pd.read_csv('datasets/1999business_licences.csv')\n",
    "bl_2000 = pd.read_csv('datasets/2000business_licences.csv')\n",
    "bl_2001 = pd.read_csv('datasets/2001business_licences.csv')\n",
    "bl_2002 = pd.read_csv('datasets/2002business_licences.csv')\n",
    "bl_2003 = pd.read_csv('datasets/2003business_licences.csv')\n",
    "bl_2004 = pd.read_csv('datasets/2004business_licences.csv')\n",
    "bl_2005 = pd.read_csv('datasets/2005business_licences.csv')\n",
    "bl_2006 = pd.read_csv('datasets/2006business_licences.csv')\n",
    "bl_2007 = pd.read_csv('datasets/2007business_licences.csv')\n",
    "bl_2008 = pd.read_csv('datasets/2008business_licences.csv')\n",
    "bl_2009 = pd.read_csv('datasets/2009business_licences.csv')\n",
    "bl_2010 = pd.read_csv('datasets/2010business_licences.csv')\n",
    "bl_2011 = pd.read_csv('datasets/2011business_licences.csv')\n",
    "bl_2012 = pd.read_csv('datasets/2012business_licences.csv')\n",
    "bl_2013 = pd.read_csv('datasets/2013business_licences.csv')\n",
    "bl_2014 = pd.read_csv('datasets/2014business_licences.csv')\n",
    "bl_2015 = pd.read_csv('datasets/business_licences.csv')\n",
    "bl_all = pd.concat([bl_1997, bl_1998, bl_1999, bl_2000, bl_2001, bl_2002, bl_2003, bl_2004, bl_2005, bl_2006, bl_2007, bl_2008, bl_2009, bl_2010, bl_2011, bl_2012, bl_2013, bl_2014, bl_2015])\n",
    "bl_all.describe()"
   ]
  },
  {
   "cell_type": "code",
   "execution_count": 4,
   "metadata": {
    "collapsed": false
   },
   "outputs": [
    {
     "name": "stdout",
     "output_type": "stream",
     "text": [
      "Index([u'LicenceRSN', u'LicenceNumber', u'LicenceRevisionNumber',\n",
      "       u'BusinessName', u'BusinessTradeName', u'Status', u'IssuedDate',\n",
      "       u'ExpiredDate', u'BusinessType', u'BusinessSubType', u'Unit',\n",
      "       u'UnitType', u'House', u'Street', u'City', u'Province', u'Country',\n",
      "       u'PostalCode', u'LocalArea', u'NumberOfEmployees', u'Latitude',\n",
      "       u'Longitude', u'FeePaid', u'ExtractDate'],\n",
      "      dtype='object')\n"
     ]
    }
   ],
   "source": [
    "print bl_all.columns"
   ]
  },
  {
   "cell_type": "code",
   "execution_count": 5,
   "metadata": {
    "collapsed": true
   },
   "outputs": [],
   "source": [
    "bl_all.to_csv('businesslicenses.csv')"
   ]
  },
  {
   "cell_type": "code",
   "execution_count": null,
   "metadata": {
    "collapsed": true
   },
   "outputs": [],
   "source": [
    "#will continue in R"
   ]
  }
 ],
 "metadata": {
  "kernelspec": {
   "display_name": "Python 2",
   "language": "python",
   "name": "python2"
  },
  "language_info": {
   "codemirror_mode": {
    "name": "ipython",
    "version": 2
   },
   "file_extension": ".py",
   "mimetype": "text/x-python",
   "name": "python",
   "nbconvert_exporter": "python",
   "pygments_lexer": "ipython2",
   "version": "2.7.10"
  }
 },
 "nbformat": 4,
 "nbformat_minor": 0
}
